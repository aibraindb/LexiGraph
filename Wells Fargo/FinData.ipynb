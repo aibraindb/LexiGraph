{
 "cells": [
  {
   "cell_type": "code",
   "execution_count": 1,
   "id": "14ffef8e",
   "metadata": {},
   "outputs": [
    {
     "name": "stdout",
     "output_type": "stream",
     "text": [
      "Name: fpdf\r\n",
      "Version: 1.7.2\r\n",
      "Summary: Simple PDF generation for Python\r\n",
      "Home-page: http://code.google.com/p/pyfpdf\r\n",
      "Author: Olivier PLATHEY ported by Max\r\n",
      "Author-email: maxpat78@yahoo.it\r\n",
      "License: LGPLv3+\r\n",
      "Location: /Users/george.cherian/Work/WellsFargo/EDIP/LexiGraph/.venv/lib/python3.11/site-packages\r\n",
      "Requires: \r\n",
      "Required-by: \r\n"
     ]
    }
   ],
   "source": [
    "!pip show fpdf"
   ]
  },
  {
   "cell_type": "code",
   "execution_count": 2,
   "id": "c591f848",
   "metadata": {},
   "outputs": [
    {
     "name": "stderr",
     "output_type": "stream",
     "text": [
      "/Users/george.cherian/anaconda3/lib/python3.11/site-packages/pandas/core/arrays/masked.py:61: UserWarning: Pandas requires version '1.3.6' or newer of 'bottleneck' (version '1.3.5' currently installed).\n",
      "  from pandas.core import (\n"
     ]
    },
    {
     "data": {
      "text/html": [
       "<div>\n",
       "<style scoped>\n",
       "    .dataframe tbody tr th:only-of-type {\n",
       "        vertical-align: middle;\n",
       "    }\n",
       "\n",
       "    .dataframe tbody tr th {\n",
       "        vertical-align: top;\n",
       "    }\n",
       "\n",
       "    .dataframe thead th {\n",
       "        text-align: right;\n",
       "    }\n",
       "</style>\n",
       "<table border=\"1\" class=\"dataframe\">\n",
       "  <thead>\n",
       "    <tr style=\"text-align: right;\">\n",
       "      <th></th>\n",
       "      <th>Date</th>\n",
       "      <th>Description</th>\n",
       "      <th>Amount</th>\n",
       "      <th>Type</th>\n",
       "    </tr>\n",
       "  </thead>\n",
       "  <tbody>\n",
       "    <tr>\n",
       "      <th>0</th>\n",
       "      <td>2022-06-11</td>\n",
       "      <td>Food</td>\n",
       "      <td>238.82</td>\n",
       "      <td>DR</td>\n",
       "    </tr>\n",
       "    <tr>\n",
       "      <th>1</th>\n",
       "      <td>2022-06-28</td>\n",
       "      <td>Mall</td>\n",
       "      <td>27.82</td>\n",
       "      <td>DR</td>\n",
       "    </tr>\n",
       "    <tr>\n",
       "      <th>2</th>\n",
       "      <td>2022-07-04</td>\n",
       "      <td>Salary</td>\n",
       "      <td>451.56</td>\n",
       "      <td>CR</td>\n",
       "    </tr>\n",
       "    <tr>\n",
       "      <th>3</th>\n",
       "      <td>2022-07-13</td>\n",
       "      <td>Grocery</td>\n",
       "      <td>395.58</td>\n",
       "      <td>DR</td>\n",
       "    </tr>\n",
       "    <tr>\n",
       "      <th>4</th>\n",
       "      <td>2022-07-24</td>\n",
       "      <td>Rent</td>\n",
       "      <td>43.10</td>\n",
       "      <td>DR</td>\n",
       "    </tr>\n",
       "  </tbody>\n",
       "</table>\n",
       "</div>"
      ],
      "text/plain": [
       "        Date Description  Amount Type\n",
       "0 2022-06-11        Food  238.82   DR\n",
       "1 2022-06-28        Mall   27.82   DR\n",
       "2 2022-07-04      Salary  451.56   CR\n",
       "3 2022-07-13     Grocery  395.58   DR\n",
       "4 2022-07-24        Rent   43.10   DR"
      ]
     },
     "execution_count": 2,
     "metadata": {},
     "output_type": "execute_result"
    }
   ],
   "source": [
    "import pandas as pd\n",
    "import numpy as np\n",
    "from datetime import datetime, timedelta\n",
    "import random\n",
    "\n",
    "# Function to generate random dates\n",
    "def generate_random_dates(start_date, end_date, n):\n",
    "    start = datetime.strptime(start_date, '%Y-%m-%d')\n",
    "    end = datetime.strptime(end_date, '%Y-%m-%d')\n",
    "    date_list = [start + timedelta(days=random.randint(0, (end - start).days)) for _ in range(n)]\n",
    "    return date_list\n",
    "\n",
    "# Function to generate random transactions\n",
    "def generate_random_transactions(n):\n",
    "    descriptions = ['Food', 'Bus', 'Train', 'Mall', 'Grocery', 'Rent', 'Salary', 'Bank interest', 'Electricity', 'Internet', 'Gym']\n",
    "    transactions = []\n",
    "    for _ in range(n):\n",
    "        date = random.choice(dates)\n",
    "        description = random.choice(descriptions)\n",
    "        amount = round(random.uniform(10, 500), 2)\n",
    "        # transaction_type = random.choice(['CR', 'DR'])\n",
    "        if description in ['Salary', 'Bank interest']:\n",
    "            transaction_type = 'CR'\n",
    "        else:\n",
    "            transaction_type = 'DR'\n",
    "        transactions.append([date, description, amount, transaction_type])\n",
    "    return transactions\n",
    "\n",
    "# Generate random data\n",
    "num_entries = 100\n",
    "dates = generate_random_dates('2022-06-01', '2023-06-01', num_entries)\n",
    "transactions = generate_random_transactions(num_entries)\n",
    "\n",
    "# Create a DataFrame\n",
    "df = pd.DataFrame(transactions, columns=['Date', 'Description', 'Amount', 'Type'])\n",
    "\n",
    "# Sort by date\n",
    "df['Date'] = pd.to_datetime(df['Date'])\n",
    "df = df.sort_values(by='Date').reset_index(drop=True)\n",
    "\n",
    "df.head()"
   ]
  },
  {
   "cell_type": "code",
   "execution_count": 3,
   "id": "5fa83021",
   "metadata": {},
   "outputs": [],
   "source": [
    "# to create csv format of data\n",
    "df.to_csv('Bank_Statement.csv', index=False)"
   ]
  },
  {
   "cell_type": "code",
   "execution_count": 4,
   "id": "53a7a7c7",
   "metadata": {},
   "outputs": [
    {
     "name": "stdout",
     "output_type": "stream",
     "text": [
      "/Users/george.cherian/Work/WellsFargo/EDIP/LexiGraph/Wells Fargo\r\n"
     ]
    }
   ],
   "source": [
    "!pwd\n"
   ]
  },
  {
   "cell_type": "code",
   "execution_count": 7,
   "id": "8b4b0aee",
   "metadata": {},
   "outputs": [
    {
     "name": "stdout",
     "output_type": "stream",
     "text": [
      "Requirement already satisfied: fpdf in /Users/george.cherian/Work/WellsFargo/EDIP/LexiGraph/.venv/lib/python3.11/site-packages (1.7.2)\r\n"
     ]
    },
    {
     "ename": "ModuleNotFoundError",
     "evalue": "No module named 'fpdf'",
     "output_type": "error",
     "traceback": [
      "\u001b[0;31m---------------------------------------------------------------------------\u001b[0m",
      "\u001b[0;31mModuleNotFoundError\u001b[0m                       Traceback (most recent call last)",
      "Cell \u001b[0;32mIn[7], line 3\u001b[0m\n\u001b[1;32m      1\u001b[0m \u001b[38;5;66;03m# to make pdf of dummy statement\u001b[39;00m\n\u001b[1;32m      2\u001b[0m get_ipython()\u001b[38;5;241m.\u001b[39msystem(\u001b[38;5;124m'\u001b[39m\u001b[38;5;124mpip install fpdf\u001b[39m\u001b[38;5;124m'\u001b[39m)\n\u001b[0;32m----> 3\u001b[0m \u001b[38;5;28;01mimport\u001b[39;00m \u001b[38;5;21;01mfpdf\u001b[39;00m\n",
      "\u001b[0;31mModuleNotFoundError\u001b[0m: No module named 'fpdf'"
     ]
    }
   ],
   "source": [
    "# to make pdf of dummy statement\n",
    "!pip install fpdf\n",
    "import fpdf"
   ]
  },
  {
   "cell_type": "code",
   "execution_count": 5,
   "id": "b1016527",
   "metadata": {},
   "outputs": [
    {
     "ename": "ModuleNotFoundError",
     "evalue": "No module named 'fpdf'",
     "output_type": "error",
     "traceback": [
      "\u001b[0;31m---------------------------------------------------------------------------\u001b[0m",
      "\u001b[0;31mModuleNotFoundError\u001b[0m                       Traceback (most recent call last)",
      "Cell \u001b[0;32mIn[5], line 2\u001b[0m\n\u001b[1;32m      1\u001b[0m \u001b[38;5;66;03m# to make pdf of dummy statement\u001b[39;00m\n\u001b[0;32m----> 2\u001b[0m \u001b[38;5;28;01mfrom\u001b[39;00m \u001b[38;5;21;01mfpdf\u001b[39;00m \u001b[38;5;28;01mimport\u001b[39;00m FPDF\n\u001b[1;32m      4\u001b[0m \u001b[38;5;66;03m# Create the updated DataFrame as per the user's code\u001b[39;00m\n\u001b[1;32m      5\u001b[0m \u001b[38;5;66;03m# Generate random data\u001b[39;00m\n\u001b[1;32m      6\u001b[0m num_entries \u001b[38;5;241m=\u001b[39m \u001b[38;5;241m100\u001b[39m\n",
      "\u001b[0;31mModuleNotFoundError\u001b[0m: No module named 'fpdf'"
     ]
    }
   ],
   "source": [
    "# Create the updated DataFrame as per the user's code\n",
    "# Generate random data\n",
    "num_entries = 100\n",
    "dates = generate_random_dates('2022-06-01', '2023-06-01', num_entries)\n",
    "transactions = generate_random_transactions(num_entries)\n",
    "\n",
    "# Create a DataFrame\n",
    "df = pd.DataFrame(transactions, columns=['Date', 'Description', 'Amount', 'Type'])\n",
    "\n",
    "# Sort by date\n",
    "df['Date'] = pd.to_datetime(df['Date'])\n",
    "df = df.sort_values(by='Date').reset_index(drop=True)\n",
    "\n",
    "# Function to generate PDF\n",
    "class PDF(FPDF):\n",
    "    def header(self):\n",
    "        self.set_font('Arial', 'B', 12)\n",
    "        self.cell(0, 10, 'Bank Statement', 0, 1, 'C')\n",
    "\n",
    "    def footer(self):\n",
    "        self.set_y(-15)\n",
    "        self.set_font('Arial', 'I', 8)\n",
    "        self.cell(0, 10, f'Page {self.page_no()}', 0, 0, 'C')\n",
    "\n",
    "    def table(self, data):\n",
    "        self.set_font('Arial', 'B', 10)\n",
    "        col_width = self.w / 4  # distribute content evenly\n",
    "        th = self.font_size\n",
    "        \n",
    "        # Table header\n",
    "        self.cell(col_width, th, 'Date', border=1)\n",
    "        self.cell(col_width, th, 'Description', border=1)\n",
    "        self.cell(col_width, th, 'Amount', border=1)\n",
    "        self.cell(col_width, th, 'Type', border=1)\n",
    "        self.ln(th)\n",
    "        \n",
    "        # Table body\n",
    "        self.set_font('Arial', '', 10)\n",
    "        for row in data.itertuples():\n",
    "            self.cell(col_width, th, str(row.Date.date()), border=1)\n",
    "            self.cell(col_width, th, row.Description, border=1)\n",
    "            self.cell(col_width, th, f'{row.Amount:.2f}', border=1)\n",
    "            self.cell(col_width, th, row.Type, border=1)\n",
    "            self.ln(th)\n",
    "\n",
    "# Create PDF\n",
    "pdf = PDF()\n",
    "pdf.add_page()\n",
    "pdf.table(df)\n",
    "\n",
    "# Save the PDF to a file\n",
    "output_path = \"Bank_Statement.pdf\"\n",
    "pdf.output(output_path)\n",
    "\n",
    "output_path"
   ]
  },
  {
   "cell_type": "code",
   "execution_count": 8,
   "id": "a39f3d0d",
   "metadata": {},
   "outputs": [
    {
     "ename": "ModuleNotFoundError",
     "evalue": "No module named 'doctr'",
     "output_type": "error",
     "traceback": [
      "\u001b[0;31m---------------------------------------------------------------------------\u001b[0m",
      "\u001b[0;31mModuleNotFoundError\u001b[0m                       Traceback (most recent call last)",
      "Cell \u001b[0;32mIn[8], line 3\u001b[0m\n\u001b[1;32m      1\u001b[0m \u001b[38;5;28;01mimport\u001b[39;00m \u001b[38;5;21;01msys\u001b[39;00m\u001b[38;5;241m,\u001b[39m \u001b[38;5;21;01mio\u001b[39;00m\n\u001b[1;32m      2\u001b[0m \u001b[38;5;28;01mfrom\u001b[39;00m \u001b[38;5;21;01mPIL\u001b[39;00m \u001b[38;5;28;01mimport\u001b[39;00m Image\n\u001b[0;32m----> 3\u001b[0m \u001b[38;5;28;01mfrom\u001b[39;00m \u001b[38;5;21;01mdoctr\u001b[39;00m\u001b[38;5;21;01m.\u001b[39;00m\u001b[38;5;21;01mio\u001b[39;00m \u001b[38;5;28;01mimport\u001b[39;00m DocumentFile\n\u001b[1;32m      4\u001b[0m \u001b[38;5;28;01mfrom\u001b[39;00m \u001b[38;5;21;01mdoctr\u001b[39;00m\u001b[38;5;21;01m.\u001b[39;00m\u001b[38;5;21;01mmodels\u001b[39;00m \u001b[38;5;28;01mimport\u001b[39;00m ocr_predictor\n\u001b[1;32m      6\u001b[0m \u001b[38;5;28;01mdef\u001b[39;00m \u001b[38;5;21mmain\u001b[39m(path):\n\u001b[1;32m      7\u001b[0m     \u001b[38;5;66;03m# Load (PDF or image). For PDF, use first page for a quick test\u001b[39;00m\n",
      "\u001b[0;31mModuleNotFoundError\u001b[0m: No module named 'doctr'"
     ]
    }
   ],
   "source": [
    "import sys, io\n",
    "from PIL import Image\n",
    "from doctr.io import DocumentFile\n",
    "from doctr.models import ocr_predictor\n",
    "\n",
    "def main(path):\n",
    "    # Load (PDF or image). For PDF, use first page for a quick test\n",
    "    if path.lower().endswith(\".pdf\"):\n",
    "        doc = DocumentFile.from_pdf(path)\n",
    "        doc = DocumentFile.from_images(doc.render()[0])  # first page raster\n",
    "    else:\n",
    "        img = Image.open(path).convert(\"RGB\")\n",
    "        buf = io.BytesIO(); img.save(buf, format=\"PNG\")\n",
    "        doc = DocumentFile.from_images(buf.getvalue())\n",
    "\n",
    "    model = ocr_predictor(pretrained=True)  # downloads weights on first run\n",
    "    res = model(doc)                        # run OCR\n",
    "    # Print first 5 lines\n",
    "    lines = []\n",
    "    for p in res.pages:\n",
    "        for b in p.blocks:\n",
    "            for l in b.lines:\n",
    "                lines.append(\" \".join([w.value for w in l.words]))\n",
    "    print(f\"Lines detected: {len(lines)}\")\n",
    "    for t in lines[:5]:\n",
    "        print(\" -\", t)\n",
    "\n",
    "if __name__ == \"__main__\":\n",
    "    if len(sys.argv) < 2:\n",
    "        print(\"Usage: python ocr_smoke.py <image_or_pdf>\")\n",
    "        sys.exit(1)\n",
    "    main(sys.argv[1])"
   ]
  },
  {
   "cell_type": "code",
   "execution_count": null,
   "id": "ad475ac9",
   "metadata": {},
   "outputs": [],
   "source": []
  }
 ],
 "metadata": {
  "kernelspec": {
   "display_name": "Python 3 (ipykernel)",
   "language": "python",
   "name": "python3"
  },
  "language_info": {
   "codemirror_mode": {
    "name": "ipython",
    "version": 3
   },
   "file_extension": ".py",
   "mimetype": "text/x-python",
   "name": "python",
   "nbconvert_exporter": "python",
   "pygments_lexer": "ipython3",
   "version": "3.11.5"
  }
 },
 "nbformat": 4,
 "nbformat_minor": 5
}
